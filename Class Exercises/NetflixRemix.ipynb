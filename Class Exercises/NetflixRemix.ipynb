{
 "cells": [
  {
   "cell_type": "code",
   "execution_count": 12,
   "metadata": {},
   "outputs": [],
   "source": [
    "# Modules\n",
    "import os\n",
    "import csv"
   ]
  },
  {
   "cell_type": "code",
   "execution_count": 13,
   "metadata": {},
   "outputs": [
    {
     "name": "stdout",
     "output_type": "stream",
     "text": [
      "What show or movie are you looking for?Beauty and the Beast\n"
     ]
    }
   ],
   "source": [
    "choice = input('What show or movie are you looking for?')"
   ]
  },
  {
   "cell_type": "code",
   "execution_count": 14,
   "metadata": {},
   "outputs": [],
   "source": [
    "path = 'netflix_ratings.csv'"
   ]
  },
  {
   "cell_type": "code",
   "execution_count": 15,
   "metadata": {},
   "outputs": [
    {
     "name": "stdout",
     "output_type": "stream",
     "text": [
      "Your movie is not in stock!\n"
     ]
    }
   ],
   "source": [
    "with open(path, newline =\"\") as file:\n",
    "    videos = csv.reader(file, delimiter=\",\")\n",
    "    for line in videos:\n",
    "        if line[0] != choice:\n",
    "            answer = False\n",
    "            continue\n",
    "        else:\n",
    "            answer = True\n",
    "            print(f'{line[0]} is rated {line[1]} and has a score of {line[6]}')\n",
    "            break\n",
    "    if answer == False:\n",
    "        print('Your movie is not in stock!')\n",
    "        \n",
    "    \n",
    "        "
   ]
  },
  {
   "cell_type": "code",
   "execution_count": null,
   "metadata": {},
   "outputs": [],
   "source": []
  }
 ],
 "metadata": {
  "kernelspec": {
   "display_name": "Python [conda env:anaconda3]",
   "language": "python",
   "name": "conda-env-anaconda3-py"
  },
  "language_info": {
   "codemirror_mode": {
    "name": "ipython",
    "version": 3
   },
   "file_extension": ".py",
   "mimetype": "text/x-python",
   "name": "python",
   "nbconvert_exporter": "python",
   "pygments_lexer": "ipython3",
   "version": "3.6.5"
  }
 },
 "nbformat": 4,
 "nbformat_minor": 2
}
