{
 "cells": [
  {
   "cell_type": "markdown",
   "metadata": {},
   "source": [
    "If it's not running already, start your virtual environment.\n",
    "\n",
    "\n",
    "On Windows, for example: activate PythonData\n",
    "\n",
    "And on Apple:  source activate PythonData\n",
    "\n",
    "\n",
    "\n",
    "\n",
    "Install the openweathermapy API wrapper.\n",
    "\n",
    "\n",
    "From the command line, run: pip install openweathermapy\n",
    "\n",
    "\n",
    "\n",
    "\n",
    "Following the comments in your Jupyter Notebook:\n",
    "\n",
    "\n",
    "Create a settings object with your API key and preferred units of measurement.\n",
    "Get data for each city that is listed within cities.csv in the Resources folder.\n",
    "Create a list to get the temperature, latitude, and longitude in each city\n",
    "Create a Pandas DataFrame with the results.\n",
    "Print your summaries to verify that everything went smoothly.\n",
    "\n",
    "\n",
    "\n",
    "\n",
    "Hint: Don't forget to utilize the openweathermapy documentation."
   ]
  },
  {
   "cell_type": "code",
   "execution_count": null,
   "metadata": {},
   "outputs": [],
   "source": [
    "import openweathermapy.core as owm\n",
    "import pandas as pd\n",
    "import config\n",
    "\n",
    "api_key = config.weather_key\n",
    "cities = pd.read_csv(\"cities.csv\", header=None)\n",
    "\n",
    "cities.columns = [\"Cities\"]\n",
    "city_list = cities.Cities.unique()"
   ]
  },
  {
   "cell_type": "code",
   "execution_count": null,
   "metadata": {},
   "outputs": [],
   "source": [
    "settings = {\"units\": \"metric\", \"appid\": api_key}"
   ]
  },
  {
   "cell_type": "code",
   "execution_count": null,
   "metadata": {},
   "outputs": [],
   "source": [
    "city_df = {\"Name\":[], \"Temp\":[], \"Long\":[], \"Lat\":[]}\n",
    "summary = [\"name\", \"main.temp\", 'coord.lon', 'coord.lat']\n",
    "for city in city_list:\n",
    "    weather = owm.get_current(city, **settings)\n",
    "    city_sum = weather(*summary)\n",
    "    city_df['Name'].append(city_sum[0])\n",
    "    city_df['Temp'].append(city_sum[1])\n",
    "    city_df['Long'].append(city_sum[2])\n",
    "    city_df['Lat'].append(city_sum[3])\n",
    "df_cities = pd.DataFrame(city_df)\n",
    "df_cities"
   ]
  },
  {
   "cell_type": "code",
   "execution_count": null,
   "metadata": {},
   "outputs": [],
   "source": []
  }
 ],
 "metadata": {
  "kernelspec": {
   "display_name": "Python [default]",
   "language": "python",
   "name": "python3"
  },
  "language_info": {
   "codemirror_mode": {
    "name": "ipython",
    "version": 3
   },
   "file_extension": ".py",
   "mimetype": "text/x-python",
   "name": "python",
   "nbconvert_exporter": "python",
   "pygments_lexer": "ipython3",
   "version": "3.6.5"
  }
 },
 "nbformat": 4,
 "nbformat_minor": 2
}
