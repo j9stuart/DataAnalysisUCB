{
 "cells": [
  {
   "cell_type": "code",
   "execution_count": null,
   "metadata": {},
   "outputs": [],
   "source": [
    "Make a request to the following endpoint (http://nyt-mongo-scraper.herokuapp.com/api/headlines), and store the response.\n",
    "JSON-ify the response.\n",
    "Print the JSON representations of the first and last posts.\n",
    "Print number of posts received."
   ]
  },
  {
   "cell_type": "code",
   "execution_count": 16,
   "metadata": {},
   "outputs": [
    {
     "data": {
      "text/plain": [
       "15"
      ]
     },
     "execution_count": 16,
     "metadata": {},
     "output_type": "execute_result"
    }
   ],
   "source": [
    " # Dependencies\n",
    "import json\n",
    "import requests\n",
    "from pprint import pprint\n",
    "import numpy as np\n",
    "\n",
    "url = \"http://nyt-mongo-scraper.herokuapp.com/api/headlines\"\n",
    "\n",
    "query = requests.get(url).json()\n",
    "length = len(query)\n",
    "length"
   ]
  },
  {
   "cell_type": "code",
   "execution_count": 13,
   "metadata": {},
   "outputs": [
    {
     "data": {
      "text/plain": [
       "array([{'saved': True, '_id': '5bbfff954c6fe20014c2b2f2', 'headline': 'Kerby Jean-Raymond Is Expanding the Fashion Canon', 'summary': 'The fashion designer discusses the apolitical nature of his industry and why Kanye West should be careful about what he co-signs.', 'url': 'https://www.nytimes.com/2018/10/11/magazine/kerby-jean-raymond-is-expanding-the-fashion-canon.html', 'date': '2018-10-12T01:57:41.142Z', '__v': 0},\n",
       "       {'saved': False, '_id': '5bbfff954c6fe20014c2b2e5', 'headline': 'In Poor Communities, Fleeing Was Tough', 'summary': 'People already hard on their luck had little means to escape the storm.', 'url': 'https://www.nytimes.com/2018/10/11/us/florida-hurricane-poor-communities-pandhandle.html', 'date': '2018-10-12T01:57:41.134Z', '__v': 0}],\n",
       "      dtype=object)"
      ]
     },
     "execution_count": 13,
     "metadata": {},
     "output_type": "execute_result"
    }
   ],
   "source": [
    "np.array(query)[[0, -1]]"
   ]
  },
  {
   "cell_type": "code",
   "execution_count": 14,
   "metadata": {},
   "outputs": [
    {
     "name": "stdout",
     "output_type": "stream",
     "text": [
      "[{'__v': 0,\n",
      "  '_id': '5bbfff954c6fe20014c2b2f2',\n",
      "  'date': '2018-10-12T01:57:41.142Z',\n",
      "  'headline': 'Kerby Jean-Raymond Is Expanding the Fashion Canon',\n",
      "  'saved': True,\n",
      "  'summary': 'The fashion designer discusses the apolitical nature of his '\n",
      "             'industry and why Kanye West should be careful about what he '\n",
      "             'co-signs.',\n",
      "  'url': 'https://www.nytimes.com/2018/10/11/magazine/kerby-jean-raymond-is-expanding-the-fashion-canon.html'},\n",
      " {'__v': 0,\n",
      "  '_id': '5bbfff954c6fe20014c2b2f3',\n",
      "  'date': '2018-10-12T01:57:41.142Z',\n",
      "  'headline': 'Book Review: John Kerry Describes Politics as It Used to Be',\n",
      "  'saved': False,\n",
      "  'summary': '“Every Day Is Extra” is the memoir of an eyewitness to some of '\n",
      "             'the most dramatic changes in American political history.',\n",
      "  'url': 'https://www.nytimes.com/2018/10/08/books/review/john-kerry-every-day-is-extra.html'},\n",
      " {'__v': 0,\n",
      "  '_id': '5bbfff954c6fe20014c2b2ef',\n",
      "  'date': '2018-10-12T01:57:41.141Z',\n",
      "  'headline': 'Can a Murder Verdict Help Reform Chicago Police?',\n",
      "  'saved': False,\n",
      "  'summary': 'An officer’s shooting of a teenager shocked the city. His '\n",
      "             'conviction should force the city to act.',\n",
      "  'url': 'https://www.nytimes.com/2018/10/11/opinion/Laquan-McDonald-verdict-chicago-police.html'},\n",
      " {'__v': 0,\n",
      "  '_id': '5bbfff954c6fe20014c2b2f0',\n",
      "  'date': '2018-10-12T01:57:41.141Z',\n",
      "  'headline': 'Goodbye, Political Spin, Hello Blatant Lies',\n",
      "  'saved': False,\n",
      "  'summary': 'Black is white, up is down, and Republicans are defenders of '\n",
      "             'Medicare.',\n",
      "  'url': 'https://www.nytimes.com/2018/10/11/opinion/republicans-lies-medicare-pre-existing-conditions.html'},\n",
      " {'__v': 0,\n",
      "  '_id': '5bbfff954c6fe20014c2b2f1',\n",
      "  'date': '2018-10-12T01:57:41.141Z',\n",
      "  'headline': 'This Girl’s Seizures Won’t Stop. Her Parents Need Your Help.',\n",
      "  'saved': False,\n",
      "  'summary': 'A potentially devastating diagnosis for a 6-year-old girl leaves '\n",
      "             'her parents grappling with what to do. What advice would you '\n",
      "             'give them?',\n",
      "  'url': 'https://www.nytimes.com/interactive/2018/10/11/magazine/netflix-diagnosis-series-sadie.html'},\n",
      " {'__v': 0,\n",
      "  '_id': '5bbfff954c6fe20014c2b2ed',\n",
      "  'date': '2018-10-12T01:57:41.140Z',\n",
      "  'headline': 'The Biggest Questions in Nevada’s Crucial Senate Race',\n",
      "  'saved': False,\n",
      "  'summary': 'Dissatisfaction with President Trump among Nevada voters has not '\n",
      "             'had the ripple effect Democrats hoped for. Senator Dean Heller, '\n",
      "             'a Republican, holds a slight edge over Jacky Rosen.',\n",
      "  'url': 'https://www.nytimes.com/2018/10/11/us/politics/nevada-senate-poll.html'},\n",
      " {'__v': 0,\n",
      "  '_id': '5bbfff954c6fe20014c2b2ee',\n",
      "  'date': '2018-10-12T01:57:41.140Z',\n",
      "  'headline': 'Trapped by the ‘Walmart of Heroin’',\n",
      "  'saved': False,\n",
      "  'summary': 'A Philadelphia neighborhood is the largest open-air narcotics '\n",
      "             'market for heroin on the East Coast. Addicts come from all over, '\n",
      "             'and many never leave.',\n",
      "  'url': 'https://www.nytimes.com/2018/10/10/magazine/kensington-heroin-opioid-philadelphia.html'},\n",
      " {'__v': 0,\n",
      "  '_id': '5bbfff954c6fe20014c2b2ec',\n",
      "  'date': '2018-10-12T01:57:41.139Z',\n",
      "  'headline': 'Soldiers in Facebook’s War on Fake News Are Feeling Overrun',\n",
      "  'saved': False,\n",
      "  'summary': 'The social network turned to Rappler, a scrappy news start-up, '\n",
      "             'to clean up its service in the Philippines. But false '\n",
      "             'information is hard to stamp out.',\n",
      "  'url': 'https://www.nytimes.com/2018/10/09/business/facebook-philippines-rappler-fake-news.html'},\n",
      " {'__v': 0,\n",
      "  '_id': '5bbfff954c6fe20014c2b2eb',\n",
      "  'date': '2018-10-12T01:57:41.138Z',\n",
      "  'headline': 'Trump Calls Saudi Relations ‘Excellent,’ While Congress Is '\n",
      "              'Incensed',\n",
      "  'saved': False,\n",
      "  'summary': 'Despite the possible Saudi involvement in the disappearance of a '\n",
      "             'journalist, American relations with Saudi Arabia are '\n",
      "             '“excellent,” President Trump said. U.S. lawmakers demanded an '\n",
      "             'investigation.',\n",
      "  'url': 'https://www.nytimes.com/2018/10/11/us/politics/trump-jamal-khashoggi-turkey-saudi.html'},\n",
      " {'__v': 0,\n",
      "  '_id': '5bbfff954c6fe20014c2b2ea',\n",
      "  'date': '2018-10-12T01:57:41.138Z',\n",
      "  'headline': 'This Is 18 Around the World',\n",
      "  'saved': False,\n",
      "  'summary': 'What does life look like for girls turning 18 in 2018? We gave '\n",
      "             'young women around the world a photography assignment: Show us '\n",
      "             '18 in your community. #Thisis18 — through girls’ eyes.',\n",
      "  'url': 'https://www.nytimes.com/interactive/2018/10/11/style/this-is-18.html'},\n",
      " {'__v': 0,\n",
      "  '_id': '5bbfff954c6fe20014c2b2e9',\n",
      "  'date': '2018-10-12T01:57:41.138Z',\n",
      "  'headline': 'Trump Attacks the Fed as Stocks Fall and the Midterms Loom',\n",
      "  'saved': False,\n",
      "  'summary': 'After hitching his political fortunes to the rise of the stock '\n",
      "             'market, President Trump is now looking to decouple himself from '\n",
      "             'its fall.',\n",
      "  'url': 'https://www.nytimes.com/2018/10/11/us/politics/trump-fed-stock-market-interest-rates.html'},\n",
      " {'__v': 0,\n",
      "  '_id': '5bbfff954c6fe20014c2b2e8',\n",
      "  'date': '2018-10-12T01:57:41.137Z',\n",
      "  'headline': 'In the ‘Climate Fwd:’ Newsletter',\n",
      "  'saved': False,\n",
      "  'summary': 'The White House approved a climate report (and what that even '\n",
      "             'means).',\n",
      "  'url': 'https://www.nytimes.com/2018/10/10/climate/white-house-approves-climate-report-what-that-means.html'},\n",
      " {'__v': 0,\n",
      "  '_id': '5bbfff954c6fe20014c2b2e7',\n",
      "  'date': '2018-10-12T01:57:41.137Z',\n",
      "  'headline': 'Listen to ‘The Daily’',\n",
      "  'saved': False,\n",
      "  'summary': 'Grim accounts are emerging about a Saudi journalist’s '\n",
      "             'disappearance.',\n",
      "  'url': 'https://www.nytimes.com/2018/10/11/podcasts/the-daily/jamal-khashoggi-saudi-arabia-turkey-disappearance.html'},\n",
      " {'__v': 0,\n",
      "  '_id': '5bbfff954c6fe20014c2b2e6',\n",
      "  'date': '2018-10-12T01:57:41.134Z',\n",
      "  'headline': 'Your Evening Briefing',\n",
      "  'saved': False,\n",
      "  'summary': 'Here’s what you need to know at the end of the day.',\n",
      "  'url': 'https://www.nytimes.com/2018/10/11/briefing/hurricane-saudi-markets.html'},\n",
      " {'__v': 0,\n",
      "  '_id': '5bbfff954c6fe20014c2b2e5',\n",
      "  'date': '2018-10-12T01:57:41.134Z',\n",
      "  'headline': 'In Poor Communities, Fleeing Was Tough',\n",
      "  'saved': False,\n",
      "  'summary': 'People already hard on their luck had little means to escape the '\n",
      "             'storm.',\n",
      "  'url': 'https://www.nytimes.com/2018/10/11/us/florida-hurricane-poor-communities-pandhandle.html'}]\n"
     ]
    }
   ],
   "source": []
  },
  {
   "cell_type": "code",
   "execution_count": null,
   "metadata": {},
   "outputs": [],
   "source": []
  }
 ],
 "metadata": {
  "kernelspec": {
   "display_name": "Python [conda env:anaconda3]",
   "language": "python",
   "name": "conda-env-anaconda3-py"
  },
  "language_info": {
   "codemirror_mode": {
    "name": "ipython",
    "version": 3
   },
   "file_extension": ".py",
   "mimetype": "text/x-python",
   "name": "python",
   "nbconvert_exporter": "python",
   "pygments_lexer": "ipython3",
   "version": "3.6.5"
  }
 },
 "nbformat": 4,
 "nbformat_minor": 2
}
